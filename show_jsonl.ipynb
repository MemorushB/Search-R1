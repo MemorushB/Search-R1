{
 "cells": [
  {
   "cell_type": "code",
   "execution_count": 5,
   "id": "fee89b84",
   "metadata": {},
   "outputs": [
    {
     "name": "stdout",
     "output_type": "stream",
     "text": [
      "Line 1: 解析失败，错误信息：Expecting value: line 1 column 1 (char 0)\n",
      "Line 2: keys = ['id', 'contents']\n",
      "Sample content: {'id': '1', 'contents': '\"Horatio Hale\"\\nconsisted of an Algonkin vocabulary, which he gathered from a band of Indians who had camped on the college grounds. Three years later, when the United States \n",
      "Line 3: keys = ['id', 'contents']\n",
      "Sample content: {'id': '2', 'contents': '\"Dibba Al-Hisn\"\\nis believed to be the site where the Portuguese during the Habsburg Dynasty built a fort and a wall around the city. In August 1648, the Arabs besieged Muscat\n",
      "Line 4: keys = ['id', 'contents']\n",
      "Sample content: {'id': '3', 'contents': '\"Ao Oni (film)\"\\nthe door as a big blue hand grabs his head. The group hears Takeshi\\'s scream and come back to check on him. As they reach the room, they see the door open an\n",
      "Line 5: keys = ['id', 'contents']\n",
      "Sample content: {'id': '4', 'contents': '\"Pavia Cathedral\"\\non March 17, 1989. The cathedral was begun in 1488, under architect Cristoforo Rocchi, who was soon replaced by Giovanni Antonio Amadeo and Gian Giacomo Dol\n"
     ]
    }
   ],
   "source": [
    "import json\n",
    "\n",
    "jsonl_path = \"data/wiki-18.jsonl\"  # 替换为你的文件路径\n",
    "\n",
    "with open(jsonl_path, \"r\", encoding=\"utf-8\", errors=\"replace\") as f:\n",
    "    for i, line in enumerate(f):\n",
    "        try:\n",
    "            data = json.loads(line)\n",
    "            print(f\"Line {i+1}: keys = {list(data.keys())}\")\n",
    "            print(f\"Sample content: {str(data)[:200]}\")\n",
    "        except Exception as e:\n",
    "            print(f\"Line {i+1}: 解析失败，错误信息：{e}\")\n",
    "        if i >= 4:  # 只看前5行\n",
    "            break"
   ]
  },
  {
   "cell_type": "code",
   "execution_count": 4,
   "id": "34220ff6",
   "metadata": {},
   "outputs": [
    {
     "name": "stdout",
     "output_type": "stream",
     "text": [
      "Line 9595: 引号不配对\n",
      "Line content: {\"id\":9594,\"contents\":\"\\\"case name:CASE OF INDUSTRIAL FINANCIAL CONSORTIUM INVESTMENT METALLURGICAL ...\n",
      "发现 1 行存在引号不配对问题\n"
     ]
    }
   ],
   "source": [
    "jsonl_path = \"data/echr_corpus_sliding_window/echr_corpus_split_1024_0.5.jsonl\"  # 替换为你的文件路径\n",
    "def check_quotation_marks(file_path):\n",
    "    \"\"\"\n",
    "    检查JSONL文件中的引号是否成对出现，并找到单个的引号位置\n",
    "    \n",
    "    Args:\n",
    "        file_path: JSONL文件路径\n",
    "    \"\"\"\n",
    "    unpaired_quotes = []\n",
    "    \n",
    "    with open(file_path, \"r\", encoding=\"utf-8\", errors=\"replace\") as f:\n",
    "        for line_num, line in enumerate(f, 1):\n",
    "            in_string = False\n",
    "            escaped = False\n",
    "            for char_pos, char in enumerate(line, 1):\n",
    "                if char == '\\\\' and not escaped:\n",
    "                    escaped = True\n",
    "                    continue\n",
    "                \n",
    "                if char == '\"' and not escaped:\n",
    "                    in_string = not in_string\n",
    "                \n",
    "                escaped = False\n",
    "            \n",
    "            if in_string:  # 如果读完一行后引号还是不配对\n",
    "                unpaired_quotes.append((line_num, len(line)))\n",
    "                print(f\"Line {line_num}: 引号不配对\")\n",
    "                print(f\"Line content: {line[:100]}...\")\n",
    "    \n",
    "    if unpaired_quotes:\n",
    "        print(f\"发现 {len(unpaired_quotes)} 行存在引号不配对问题\")\n",
    "        return unpaired_quotes\n",
    "    else:\n",
    "        print(\"所有引号都成对出现，文件格式正确\")\n",
    "        return []\n",
    "\n",
    "# 使用之前定义的jsonl_path变量\n",
    "unpaired_quotes = check_quotation_marks(jsonl_path)\n"
   ]
  },
  {
   "cell_type": "code",
   "execution_count": 5,
   "id": "86a29b53",
   "metadata": {},
   "outputs": [
    {
     "name": "stdout",
     "output_type": "stream",
     "text": [
      "No fix needed for: data/echr_corpus_sliding_window/echr_corpus_split_1024_0.2.jsonl\n",
      "No fix needed for: data/echr_corpus_sliding_window/echr_corpus_split_512_0.0.jsonl\n",
      "No fix needed for: data/echr_corpus_sliding_window/echr_corpus_split_1024_0.1.jsonl\n",
      "No fix needed for: data/echr_corpus_sliding_window/echr_corpus_split_512_0.1.jsonl\n",
      "No fix needed for: data/echr_corpus_sliding_window/echr_corpus_split_512_0.2.jsonl\n",
      "Fixed file: data/echr_corpus_sliding_window/echr_corpus_split_1024_0.5.jsonl\n",
      "No fix needed for: data/echr_corpus_sliding_window/echr_corpus_split_1024_0.0.jsonl\n",
      "No fix needed for: data/echr_corpus_sliding_window/echr_corpus_split_512_0.5.jsonl\n",
      "Processed 8 JSONL files.\n"
     ]
    }
   ],
   "source": [
    "import os\n",
    "import glob\n",
    "\n",
    "directory = \"data/echr_corpus_sliding_window\"\n",
    "# Get all jsonl files in the directory\n",
    "# Directory is already defined in the notebook\n",
    "jsonl_files = glob.glob(os.path.join(directory, \"*.jsonl\"))\n",
    "\n",
    "for file_path in jsonl_files:\n",
    "    # Read all lines from the file\n",
    "    with open(file_path, \"r\", encoding=\"utf-8\", errors=\"replace\") as f:\n",
    "        lines = f.readlines()\n",
    "    \n",
    "    if lines:\n",
    "        # Add closing brace to the last line if it doesn't end with one\n",
    "        last_line = lines[-1].rstrip()\n",
    "        if not last_line.endswith(\"}\"):\n",
    "            lines[-1] = last_line + '\"}\\n'\n",
    "            \n",
    "            # Write the modified content back to the file\n",
    "            with open(file_path, \"w\", encoding=\"utf-8\") as f:\n",
    "                f.writelines(lines)\n",
    "            print(f\"Fixed file: {file_path}\")\n",
    "        else:\n",
    "            print(f\"No fix needed for: {file_path}\")\n",
    "\n",
    "print(f\"Processed {len(jsonl_files)} JSONL files.\")"
   ]
  }
 ],
 "metadata": {
  "kernelspec": {
   "display_name": "retriever",
   "language": "python",
   "name": "python3"
  },
  "language_info": {
   "codemirror_mode": {
    "name": "ipython",
    "version": 3
   },
   "file_extension": ".py",
   "mimetype": "text/x-python",
   "name": "python",
   "nbconvert_exporter": "python",
   "pygments_lexer": "ipython3",
   "version": "3.10.18"
  }
 },
 "nbformat": 4,
 "nbformat_minor": 5
}
