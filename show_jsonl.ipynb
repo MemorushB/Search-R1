{
 "cells": [
  {
   "cell_type": "code",
   "execution_count": 5,
   "id": "fee89b84",
   "metadata": {},
   "outputs": [
    {
     "name": "stdout",
     "output_type": "stream",
     "text": [
      "Line 1: 解析失败，错误信息：Expecting value: line 1 column 1 (char 0)\n",
      "Line 2: keys = ['id', 'contents']\n",
      "Sample content: {'id': '1', 'contents': '\"Horatio Hale\"\\nconsisted of an Algonkin vocabulary, which he gathered from a band of Indians who had camped on the college grounds. Three years later, when the United States \n",
      "Line 3: keys = ['id', 'contents']\n",
      "Sample content: {'id': '2', 'contents': '\"Dibba Al-Hisn\"\\nis believed to be the site where the Portuguese during the Habsburg Dynasty built a fort and a wall around the city. In August 1648, the Arabs besieged Muscat\n",
      "Line 4: keys = ['id', 'contents']\n",
      "Sample content: {'id': '3', 'contents': '\"Ao Oni (film)\"\\nthe door as a big blue hand grabs his head. The group hears Takeshi\\'s scream and come back to check on him. As they reach the room, they see the door open an\n",
      "Line 5: keys = ['id', 'contents']\n",
      "Sample content: {'id': '4', 'contents': '\"Pavia Cathedral\"\\non March 17, 1989. The cathedral was begun in 1488, under architect Cristoforo Rocchi, who was soon replaced by Giovanni Antonio Amadeo and Gian Giacomo Dol\n"
     ]
    }
   ],
   "source": [
    "import json\n",
    "\n",
    "jsonl_path = \"data/wiki-18.jsonl\"  # 替换为你的文件路径\n",
    "\n",
    "with open(jsonl_path, \"r\", encoding=\"utf-8\", errors=\"replace\") as f:\n",
    "    for i, line in enumerate(f):\n",
    "        try:\n",
    "            data = json.loads(line)\n",
    "            print(f\"Line {i+1}: keys = {list(data.keys())}\")\n",
    "            print(f\"Sample content: {str(data)[:200]}\")\n",
    "        except Exception as e:\n",
    "            print(f\"Line {i+1}: 解析失败，错误信息：{e}\")\n",
    "        if i >= 4:  # 只看前5行\n",
    "            break"
   ]
  },
  {
   "cell_type": "code",
   "execution_count": null,
   "id": "34220ff6",
   "metadata": {},
   "outputs": [
    {
     "name": "stdout",
     "output_type": "stream",
     "text": [
      "{\n",
      "  \"data\": {\n",
      "    \"label\": \"sk-or-v1-ac3...ecf\",\n",
      "    \"limit\": 5,\n",
      "    \"usage\": 0.08,\n",
      "    \"is_provisioning_key\": false,\n",
      "    \"limit_remaining\": 4.92,\n",
      "    \"is_free_tier\": false,\n",
      "    \"rate_limit\": {\n",
      "      \"requests\": 50,\n",
      "      \"interval\": \"10s\"\n",
      "    }\n",
      "  }\n",
      "}\n"
     ]
    }
   ],
   "source": [
    "\n"
   ]
  }
 ],
 "metadata": {
  "kernelspec": {
   "display_name": "retriever",
   "language": "python",
   "name": "python3"
  },
  "language_info": {
   "codemirror_mode": {
    "name": "ipython",
    "version": 3
   },
   "file_extension": ".py",
   "mimetype": "text/x-python",
   "name": "python",
   "nbconvert_exporter": "python",
   "pygments_lexer": "ipython3",
   "version": "3.10.18"
  }
 },
 "nbformat": 4,
 "nbformat_minor": 5
}
