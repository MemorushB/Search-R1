{
 "cells": [
  {
   "cell_type": "code",
   "execution_count": null,
   "id": "12eaafd6",
   "metadata": {},
   "outputs": [
    {
     "name": "stdout",
     "output_type": "stream",
     "text": [
      "转换完成！已生成 /home/chenru/Search-R1/data/echr_guide.jsonl 文件，共 6795 条记录。\n",
      "\n",
      "前3行示例：\n",
      "ID: 0\n",
      "Contents: guide id: guide_art_1_eng; paragraph id: 1; paragraph: As provided by Article 1, the engagement unde...\n",
      "---\n",
      "ID: 1\n",
      "Contents: guide id: guide_art_1_eng; paragraph id: 2; paragraph: In the Convention context, the term jurisdict...\n",
      "---\n",
      "ID: 2\n",
      "Contents: guide id: guide_art_1_eng; paragraph id: 3; paragraph: Historically, the text drawn up by the Commit...\n",
      "---\n"
     ]
    }
   ],
   "source": [
    "\"\"\"\n",
    "This script reads a CSV file containing ECHR case law guides, converts each row into a JSONL format,\n",
    "and writes the result to a specified JSONL file. Each line in the output file contains an 'id' and\n",
    "a 'contents' field, where 'contents' includes guide and paragraph information.\n",
    "\"\"\"\n",
    "\n",
    "import pandas as pd\n",
    "import json\n",
    "\n",
    "# Read CSV file\n",
    "csv_file_path = '/home/chenru/Search-R1/data/echr_qa/echr_case_law_guides_with_possible_eng_citations.csv'\n",
    "jsonl_file_path = '/home/chenru/Search-R1/data/echr_guide.jsonl'\n",
    "\n",
    "# Load CSV data\n",
    "df = pd.read_csv(csv_file_path)\n",
    "\n",
    "# Convert to JSONL format\n",
    "with open(jsonl_file_path, 'w', encoding='utf-8') as f:\n",
    "    for index, row in df.iterrows():\n",
    "        # Build the data structure for each row\n",
    "        json_line = {\n",
    "            \"id\": str(index),  # Use row index as ID\n",
    "            \"contents\": f\"guide id: {row['guide_id']}; paragraph id: {row['paragraph_id']}; paragraph: {row['paragraph']}\"\n",
    "        }\n",
    "        \n",
    "        # Write each row to the JSONL file\n",
    "        f.write(json.dumps(json_line, ensure_ascii=False) + '\\n')\n",
    "\n",
    "print(f\"Conversion completed! Generated {jsonl_file_path} with {len(df)} records.\")\n",
    "\n",
    "# Validate the generated file (optional)\n",
    "print(\"\\nFirst 3 example lines:\")\n",
    "with open(jsonl_file_path, 'r', encoding='utf-8') as f:\n",
    "    for i, line in enumerate(f):\n",
    "        if i < 3:\n",
    "            data = json.loads(line)\n",
    "            print(f\"ID: {data['id']}\")\n",
    "            print(f\"Contents: {data['contents'][:100]}...\")  # Show only first 100 characters\n",
    "            print(\"---\")\n",
    "        else:\n",
    "            break"
   ]
  }
 ],
 "metadata": {
  "kernelspec": {
   "display_name": "searchr1",
   "language": "python",
   "name": "python3"
  },
  "language_info": {
   "codemirror_mode": {
    "name": "ipython",
    "version": 3
   },
   "file_extension": ".py",
   "mimetype": "text/x-python",
   "name": "python",
   "nbconvert_exporter": "python",
   "pygments_lexer": "ipython3",
   "version": "3.9.23"
  }
 },
 "nbformat": 4,
 "nbformat_minor": 5
}
